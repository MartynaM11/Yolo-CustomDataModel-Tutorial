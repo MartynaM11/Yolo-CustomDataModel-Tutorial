{
 "cells": [
  {
   "cell_type": "code",
   "execution_count": 1,
   "id": "d5776cd9",
   "metadata": {},
   "outputs": [],
   "source": [
    "import cv2\n",
    "import glob\n",
    "import os"
   ]
  },
  {
   "cell_type": "code",
   "execution_count": 2,
   "id": "8f8556a6",
   "metadata": {},
   "outputs": [
    {
     "name": "stdout",
     "output_type": "stream",
     "text": [
      "Found 56 labels...\n"
     ]
    }
   ],
   "source": [
    "#Path to folder with labels\n",
    "labels_path = glob.glob(\"degu img/*.txt\")\n",
    "print(\"Found %i labels...\"%(len(labels_path)))"
   ]
  },
  {
   "cell_type": "code",
   "execution_count": 3,
   "id": "fc689b0a",
   "metadata": {
    "scrolled": true
   },
   "outputs": [],
   "source": [
    "#lopp which taking all labels together\n",
    "labelsSum=len(labels_path)\n",
    "labels=[]\n",
    "for i in range(labelsSum):\n",
    "    labels_path_2read =  open(labels_path[i],'r')\n",
    "    label=labels_path_2read.readlines()\n",
    "    labels.append(label)\n",
    "    labels_path_2read.close()\n",
    "    \n",
    "#labels"
   ]
  },
  {
   "cell_type": "code",
   "execution_count": 4,
   "id": "4e6ff62a",
   "metadata": {},
   "outputs": [],
   "source": [
    "#chaning classes from all files loop\n",
    "i = 0\n",
    "labelsLen = len(labels)\n",
    "bboxesALL = []\n",
    "bboxesALL_labels = []\n",
    "while(True):\n",
    "    NextLabels = labels[i]\n",
    "    SumNextLabels = len(NextLabels)\n",
    "    for j in range(SumNextLabels):\n",
    "        label = NextLabels\n",
    "        labelj = label[j]\n",
    "        splitLabelq = labelj.split()\n",
    "        splitLabel = [float(j) for j in splitLabelq]\n",
    "        category_id = int(splitLabel[0])\n",
    "        #changing class from current to other\n",
    "        if category_id==15:\n",
    "            category_id=0\n",
    "        x_center = splitLabel[1]\n",
    "        y_center = splitLabel[2]\n",
    "        width = splitLabel[3]\n",
    "        height = splitLabel[4]\n",
    "        bboxes = [[category_id,x_center, y_center, width, height]]\n",
    "        bboxesALL.append(bboxes[0])\n",
    "        if SumNextLabels == len(bboxesALL):\n",
    "            bboxesALL_labels.append(bboxesALL.copy())\n",
    "            bboxesALL.clear()\n",
    "            i+=1\n",
    "    if i == len(labels):\n",
    "        break"
   ]
  },
  {
   "cell_type": "code",
   "execution_count": 5,
   "id": "aa0e5ce6",
   "metadata": {},
   "outputs": [],
   "source": [
    "#loop to rewrite to txt file the new class\n",
    "for i in range(len(bboxesALL_labels)):\n",
    "    file = open(labels_path[i], \"w\")\n",
    "    file.seek(0)\n",
    "    file.truncate()\n",
    "    my_list=bboxesALL_labels[i]\n",
    "    for sublist in my_list:\n",
    "        file.write(\" \".join(map(str,sublist))+ '\\n')\n",
    "    file.close()\n"
   ]
  }
 ],
 "metadata": {
  "kernelspec": {
   "display_name": "Python 3 (ipykernel)",
   "language": "python",
   "name": "python3"
  },
  "language_info": {
   "codemirror_mode": {
    "name": "ipython",
    "version": 3
   },
   "file_extension": ".py",
   "mimetype": "text/x-python",
   "name": "python",
   "nbconvert_exporter": "python",
   "pygments_lexer": "ipython3",
   "version": "3.9.16"
  }
 },
 "nbformat": 4,
 "nbformat_minor": 5
}
